{
  "cells": [
    {
      "cell_type": "code",
      "execution_count": 1,
      "metadata": {
        "id": "M6eZ0Qx7_CIt",
        "colab": {
          "base_uri": "https://localhost:8080/"
        },
        "outputId": "be20d178-e455-4a8b-a1b4-0a74a4e75dce"
      },
      "outputs": [
        {
          "output_type": "stream",
          "name": "stdout",
          "text": [
            "Mounted at /content/drive\n"
          ]
        }
      ],
      "source": [
        "from google.colab import drive\n",
        "drive.mount('/content/drive')"
      ]
    },
    {
      "cell_type": "code",
      "execution_count": 2,
      "metadata": {
        "colab": {
          "base_uri": "https://localhost:8080/",
          "height": 1000
        },
        "id": "Gq8saiTC_V-5",
        "outputId": "2cb04578-e33d-4b7f-9f76-e5fe221a0d5d"
      },
      "outputs": [
        {
          "output_type": "stream",
          "name": "stdout",
          "text": [
            "Collecting bit\n",
            "  Downloading bit-0.8.0-py3-none-any.whl.metadata (4.9 kB)\n",
            "Collecting coincurve>=4.3.0 (from bit)\n",
            "  Downloading coincurve-20.0.0-cp310-cp310-manylinux_2_17_x86_64.manylinux2014_x86_64.whl.metadata (4.0 kB)\n",
            "Requirement already satisfied: requests in /usr/local/lib/python3.10/dist-packages (from bit) (2.32.3)\n",
            "Collecting asn1crypto (from coincurve>=4.3.0->bit)\n",
            "  Downloading asn1crypto-1.5.1-py2.py3-none-any.whl.metadata (13 kB)\n",
            "Requirement already satisfied: cffi>=1.3.0 in /usr/local/lib/python3.10/dist-packages (from coincurve>=4.3.0->bit) (1.17.1)\n",
            "Requirement already satisfied: charset-normalizer<4,>=2 in /usr/local/lib/python3.10/dist-packages (from requests->bit) (3.4.0)\n",
            "Requirement already satisfied: idna<4,>=2.5 in /usr/local/lib/python3.10/dist-packages (from requests->bit) (3.10)\n",
            "Requirement already satisfied: urllib3<3,>=1.21.1 in /usr/local/lib/python3.10/dist-packages (from requests->bit) (2.2.3)\n",
            "Requirement already satisfied: certifi>=2017.4.17 in /usr/local/lib/python3.10/dist-packages (from requests->bit) (2024.8.30)\n",
            "Requirement already satisfied: pycparser in /usr/local/lib/python3.10/dist-packages (from cffi>=1.3.0->coincurve>=4.3.0->bit) (2.22)\n",
            "Downloading bit-0.8.0-py3-none-any.whl (68 kB)\n",
            "\u001b[2K   \u001b[90m━━━━━━━━━━━━━━━━━━━━━━━━━━━━━━━━━━━━━━━━\u001b[0m \u001b[32m68.9/68.9 kB\u001b[0m \u001b[31m6.2 MB/s\u001b[0m eta \u001b[36m0:00:00\u001b[0m\n",
            "\u001b[?25hDownloading coincurve-20.0.0-cp310-cp310-manylinux_2_17_x86_64.manylinux2014_x86_64.whl (1.2 MB)\n",
            "\u001b[2K   \u001b[90m━━━━━━━━━━━━━━━━━━━━━━━━━━━━━━━━━━━━━━━━\u001b[0m \u001b[32m1.2/1.2 MB\u001b[0m \u001b[31m59.2 MB/s\u001b[0m eta \u001b[36m0:00:00\u001b[0m\n",
            "\u001b[?25hDownloading asn1crypto-1.5.1-py2.py3-none-any.whl (105 kB)\n",
            "\u001b[2K   \u001b[90m━━━━━━━━━━━━━━━━━━━━━━━━━━━━━━━━━━━━━━━━\u001b[0m \u001b[32m105.0/105.0 kB\u001b[0m \u001b[31m11.2 MB/s\u001b[0m eta \u001b[36m0:00:00\u001b[0m\n",
            "\u001b[?25hInstalling collected packages: asn1crypto, coincurve, bit\n",
            "Successfully installed asn1crypto-1.5.1 bit-0.8.0 coincurve-20.0.0\n",
            "Collecting ice\n",
            "  Downloading ice-0.0.2.tar.gz (20 kB)\n",
            "  Preparing metadata (setup.py) ... \u001b[?25l\u001b[?25hdone\n",
            "Building wheels for collected packages: ice\n",
            "  Building wheel for ice (setup.py) ... \u001b[?25l\u001b[?25hdone\n",
            "  Created wheel for ice: filename=ice-0.0.2-py3-none-any.whl size=11664 sha256=bf4c0beda5d5f388ff5af92f38c102e9b863cf4432c9a2708cd9ee8a8e4fdc3d\n",
            "  Stored in directory: /root/.cache/pip/wheels/6c/66/d0/af65296dbeaaa9876682a13d683b53df92c35181f1441e822a\n",
            "Successfully built ice\n",
            "Installing collected packages: ice\n",
            "Successfully installed ice-0.0.2\n",
            "Collecting argparse\n",
            "  Downloading argparse-1.4.0-py2.py3-none-any.whl.metadata (2.8 kB)\n",
            "Downloading argparse-1.4.0-py2.py3-none-any.whl (23 kB)\n",
            "Installing collected packages: argparse\n",
            "Successfully installed argparse-1.4.0\n",
            "Collecting base58\n",
            "  Downloading base58-2.1.1-py3-none-any.whl.metadata (3.1 kB)\n",
            "Downloading base58-2.1.1-py3-none-any.whl (5.6 kB)\n",
            "Installing collected packages: base58\n",
            "Successfully installed base58-2.1.1\n",
            "Collecting bitcoin\n",
            "  Downloading bitcoin-1.1.42.tar.gz (36 kB)\n",
            "  Preparing metadata (setup.py) ... \u001b[?25l\u001b[?25hdone\n",
            "Building wheels for collected packages: bitcoin\n",
            "  Building wheel for bitcoin (setup.py) ... \u001b[?25l\u001b[?25hdone\n",
            "  Created wheel for bitcoin: filename=bitcoin-1.1.42-py3-none-any.whl size=44403 sha256=e9f623506ad6769a82d2e0284aea7c5a206d565ceba41209c365ce805d3fa076\n",
            "  Stored in directory: /root/.cache/pip/wheels/a3/98/a1/0d53f5b714680bb5dffc2db778c221b1f5c54bc4a3a779c8c5\n",
            "Successfully built bitcoin\n",
            "Installing collected packages: bitcoin\n",
            "Successfully installed bitcoin-1.1.42\n",
            "Collecting pub\n",
            "  Downloading pub-0.0.4.tar.gz (6.2 kB)\n",
            "  Preparing metadata (setup.py) ... \u001b[?25l\u001b[?25hdone\n",
            "Collecting path.py>=2.2 (from pub)\n",
            "  Downloading path.py-12.5.0-py3-none-any.whl.metadata (1.3 kB)\n",
            "Collecting envoy>=0.0.2 (from pub)\n",
            "  Downloading envoy-0.0.3-py2.py3-none-any.whl.metadata (1.4 kB)\n",
            "Requirement already satisfied: networkx>=1.6 in /usr/local/lib/python3.10/dist-packages (from pub) (3.4.2)\n",
            "Collecting path (from path.py>=2.2->pub)\n",
            "  Downloading path-17.0.0-py3-none-any.whl.metadata (6.4 kB)\n",
            "Downloading envoy-0.0.3-py2.py3-none-any.whl (5.0 kB)\n",
            "Downloading path.py-12.5.0-py3-none-any.whl (2.3 kB)\n",
            "Downloading path-17.0.0-py3-none-any.whl (24 kB)\n",
            "Building wheels for collected packages: pub\n",
            "  Building wheel for pub (setup.py) ... \u001b[?25l\u001b[?25hdone\n",
            "  Created wheel for pub: filename=pub-0.0.4-py3-none-any.whl size=5628 sha256=f94264fd526b1393823350862f7d65349c936e4b5d7df14bb6d6dd76c1df1c6b\n",
            "  Stored in directory: /root/.cache/pip/wheels/fb/c6/6c/273a960e6427ff0320232b92872fb7846fef0b0b977889d70d\n",
            "Successfully built pub\n",
            "Installing collected packages: envoy, path, path.py, pub\n",
            "Successfully installed envoy-0.0.3 path-17.0.0 path.py-12.5.0 pub-0.0.4\n",
            "Requirement already satisfied: requests in /usr/local/lib/python3.10/dist-packages (2.32.3)\n",
            "Requirement already satisfied: charset-normalizer<4,>=2 in /usr/local/lib/python3.10/dist-packages (from requests) (3.4.0)\n",
            "Requirement already satisfied: idna<4,>=2.5 in /usr/local/lib/python3.10/dist-packages (from requests) (3.10)\n",
            "Requirement already satisfied: urllib3<3,>=1.21.1 in /usr/local/lib/python3.10/dist-packages (from requests) (2.2.3)\n",
            "Requirement already satisfied: certifi>=2017.4.17 in /usr/local/lib/python3.10/dist-packages (from requests) (2024.8.30)\n"
          ]
        },
        {
          "output_type": "display_data",
          "data": {
            "application/vnd.colab-display-data+json": {
              "pip_warning": {
                "packages": [
                  "argparse"
                ]
              },
              "id": "e6767d5c51c84cd1abe0af50a29ce07a"
            }
          },
          "metadata": {}
        }
      ],
      "source": [
        "!pip3 install bit && pip3 install ice && pip3 install argparse && pip3 install base58 && pip3 install bitcoin && pip3 install pub && pip3 install requests"
      ]
    },
    {
      "cell_type": "code",
      "execution_count": 4,
      "metadata": {
        "colab": {
          "base_uri": "https://localhost:8080/"
        },
        "id": "O1mukol_BNrm",
        "outputId": "b2fd8750-cb86-4c1f-ed02-356ffaa1dc56"
      },
      "outputs": [
        {
          "output_type": "stream",
          "name": "stdout",
          "text": [
            "Reading package lists... Done\n",
            "Building dependency tree... Done\n",
            "Reading state information... Done\n",
            "The following additional packages will be installed:\n",
            "  cuda-toolkit-11-8-config-common cuda-toolkit-11-config-common\n",
            "The following NEW packages will be installed:\n",
            "  cuda-cudart-11-8 cuda-toolkit-11-8-config-common cuda-toolkit-11-config-common\n",
            "0 upgraded, 3 newly installed, 0 to remove and 49 not upgraded.\n",
            "Need to get 198 kB of archives.\n",
            "After this operation, 938 kB of additional disk space will be used.\n",
            "Get:1 https://developer.download.nvidia.com/compute/cuda/repos/ubuntu2204/x86_64  cuda-toolkit-11-config-common 11.8.89-1 [16.4 kB]\n",
            "Get:2 https://developer.download.nvidia.com/compute/cuda/repos/ubuntu2204/x86_64  cuda-toolkit-11-8-config-common 11.8.89-1 [16.3 kB]\n",
            "Get:3 https://developer.download.nvidia.com/compute/cuda/repos/ubuntu2204/x86_64  cuda-cudart-11-8 11.8.89-1 [165 kB]\n",
            "Fetched 198 kB in 0s (1,333 kB/s)\n",
            "Selecting previously unselected package cuda-toolkit-11-config-common.\n",
            "(Reading database ... 123632 files and directories currently installed.)\n",
            "Preparing to unpack .../cuda-toolkit-11-config-common_11.8.89-1_all.deb ...\n",
            "Unpacking cuda-toolkit-11-config-common (11.8.89-1) ...\n",
            "Selecting previously unselected package cuda-toolkit-11-8-config-common.\n",
            "Preparing to unpack .../cuda-toolkit-11-8-config-common_11.8.89-1_all.deb ...\n",
            "Unpacking cuda-toolkit-11-8-config-common (11.8.89-1) ...\n",
            "Selecting previously unselected package cuda-cudart-11-8.\n",
            "Preparing to unpack .../cuda-cudart-11-8_11.8.89-1_amd64.deb ...\n",
            "Unpacking cuda-cudart-11-8 (11.8.89-1) ...\n",
            "Setting up cuda-toolkit-11-config-common (11.8.89-1) ...\n",
            "Setting up cuda-toolkit-11-8-config-common (11.8.89-1) ...\n",
            "Setting alternatives\n",
            "update-alternatives: using /usr/local/cuda-11.8 to provide /usr/local/cuda-11 (cuda-11) in auto mode\n",
            "Setting up cuda-cudart-11-8 (11.8.89-1) ...\n",
            "Processing triggers for libc-bin (2.35-0ubuntu3.4) ...\n",
            "/sbin/ldconfig.real: /usr/local/lib/libumf.so.0 is not a symbolic link\n",
            "\n",
            "/sbin/ldconfig.real: /usr/local/lib/libtbbbind.so.3 is not a symbolic link\n",
            "\n",
            "/sbin/ldconfig.real: /usr/local/lib/libtcm.so.1 is not a symbolic link\n",
            "\n",
            "/sbin/ldconfig.real: /usr/local/lib/libur_loader.so.0 is not a symbolic link\n",
            "\n",
            "/sbin/ldconfig.real: /usr/local/lib/libtcm_debug.so.1 is not a symbolic link\n",
            "\n",
            "/sbin/ldconfig.real: /usr/local/lib/libtbbbind_2_5.so.3 is not a symbolic link\n",
            "\n",
            "/sbin/ldconfig.real: /usr/local/lib/libtbbbind_2_0.so.3 is not a symbolic link\n",
            "\n",
            "/sbin/ldconfig.real: /usr/local/lib/libur_adapter_level_zero.so.0 is not a symbolic link\n",
            "\n",
            "/sbin/ldconfig.real: /usr/local/lib/libtbbmalloc_proxy.so.2 is not a symbolic link\n",
            "\n",
            "/sbin/ldconfig.real: /usr/local/lib/libtbbmalloc.so.2 is not a symbolic link\n",
            "\n",
            "/sbin/ldconfig.real: /usr/local/lib/libtbb.so.12 is not a symbolic link\n",
            "\n",
            "/sbin/ldconfig.real: /usr/local/lib/libur_adapter_opencl.so.0 is not a symbolic link\n",
            "\n",
            "/sbin/ldconfig.real: /usr/local/lib/libhwloc.so.15 is not a symbolic link\n",
            "\n"
          ]
        }
      ],
      "source": [
        "!apt install cuda-cudart-11-8 -y"
      ]
    },
    {
      "cell_type": "code",
      "execution_count": 26,
      "metadata": {
        "colab": {
          "base_uri": "https://localhost:8080/"
        },
        "id": "Tm0PIbP_ppm9",
        "outputId": "9f561168-8ea9-4c30-d8b2-a381d0df2459"
      },
      "outputs": [
        {
          "output_type": "stream",
          "name": "stdout",
          "text": [
            "Requirement already satisfied: secp256k1 in /usr/local/lib/python3.10/dist-packages (0.14.0)\n",
            "Requirement already satisfied: cffi>=1.3.0 in /usr/local/lib/python3.10/dist-packages (from secp256k1) (1.17.1)\n",
            "Requirement already satisfied: pycparser in /usr/local/lib/python3.10/dist-packages (from cffi>=1.3.0->secp256k1) (2.22)\n",
            "Requirement already satisfied: bit in /usr/local/lib/python3.10/dist-packages (0.8.0)\n",
            "Requirement already satisfied: coincurve>=4.3.0 in /usr/local/lib/python3.10/dist-packages (from bit) (20.0.0)\n",
            "Requirement already satisfied: requests in /usr/local/lib/python3.10/dist-packages (from bit) (2.32.3)\n",
            "Requirement already satisfied: asn1crypto in /usr/local/lib/python3.10/dist-packages (from coincurve>=4.3.0->bit) (1.5.1)\n",
            "Requirement already satisfied: cffi>=1.3.0 in /usr/local/lib/python3.10/dist-packages (from coincurve>=4.3.0->bit) (1.17.1)\n",
            "Requirement already satisfied: charset-normalizer<4,>=2 in /usr/local/lib/python3.10/dist-packages (from requests->bit) (3.4.0)\n",
            "Requirement already satisfied: idna<4,>=2.5 in /usr/local/lib/python3.10/dist-packages (from requests->bit) (3.10)\n",
            "Requirement already satisfied: urllib3<3,>=1.21.1 in /usr/local/lib/python3.10/dist-packages (from requests->bit) (2.2.3)\n",
            "Requirement already satisfied: certifi>=2017.4.17 in /usr/local/lib/python3.10/dist-packages (from requests->bit) (2024.8.30)\n",
            "Requirement already satisfied: pycparser in /usr/local/lib/python3.10/dist-packages (from cffi>=1.3.0->coincurve>=4.3.0->bit) (2.22)\n",
            "\u001b[31mERROR: Could not find a version that satisfies the requirement signal (from versions: none)\u001b[0m\u001b[31m\n",
            "\u001b[0m\u001b[31mERROR: No matching distribution found for signal\u001b[0m\u001b[31m\n",
            "\u001b[0m"
          ]
        }
      ],
      "source": [
        "!pip3 install secp256k1 && pip3 install bit && pip3 install signal && pip3 install ice && pip3 install argparse && pip3 install base58 && pip3 install bitcoin && pip3 install pub && pip3 install requests"
      ]
    },
    {
      "cell_type": "code",
      "source": [
        "!cd /content/drive/MyDrive/ && git clone https://github.com/threealgos/RETRIVER"
      ],
      "metadata": {
        "id": "fd-A471VTYjU"
      },
      "execution_count": null,
      "outputs": []
    },
    {
      "cell_type": "code",
      "source": [
        "!cd /content/drive/MyDrive/RETRIVER/RETRIVER && chmod +x Makefile"
      ],
      "metadata": {
        "id": "AVa4tfWMxGWC"
      },
      "execution_count": 2,
      "outputs": []
    },
    {
      "cell_type": "code",
      "execution_count": 28,
      "metadata": {
        "colab": {
          "base_uri": "https://localhost:8080/"
        },
        "id": "SatFD2_Wn2zu",
        "outputId": "f2b6eced-2e45-4440-e7ab-22120bbfdcb2"
      },
      "outputs": [
        {
          "output_type": "stream",
          "name": "stdout",
          "text": [
            "Kangaroo v2.2 : Added Start End Stride Options\n",
            "GPU #0 Tesla T4 (40x64 cores) (Cap 7.5) (15102.1 MB) (Multiple host threads)\n"
          ]
        }
      ],
      "source": [
        "!cd /content/drive/MyDrive/RETRIVER/RETRIVER && make gpu=1 CCAP=75 all"
      ]
    },
    {
      "cell_type": "code",
      "source": [
        "!cd /content/drive/MyDrive/RETRIVER/RETRIVER && chmod +x kangaroo"
      ],
      "metadata": {
        "id": "3vwoVz0ZybfB"
      },
      "execution_count": null,
      "outputs": []
    },
    {
      "cell_type": "code",
      "source": [
        "!cd /content/drive/MyDrive/RETRIVERRETRIVER && ./kangaroo -l"
      ],
      "metadata": {
        "colab": {
          "base_uri": "https://localhost:8080/"
        },
        "id": "psNP2VQiyY9j",
        "outputId": "75916c76-01ed-40e7-8c9a-9fa34e9f1cf4"
      },
      "execution_count": null,
      "outputs": [
        {
          "output_type": "stream",
          "name": "stdout",
          "text": [
            "cd obj &&\tmkdir -p SECPK1\n",
            "cd obj && mkdir -p GPU\n",
            "g++ -DWITHGPU -m64 -mssse3 -Wno-unused-result -Wno-write-strings -O2 -I. -I/usr/local/cuda/include -o obj/Kangaroo.o -c Kangaroo.cpp\n",
            "\u001b[01m\u001b[KKangaroo.cpp:955:6:\u001b[m\u001b[K \u001b[01;31m\u001b[Kerror: \u001b[m\u001b[Kno declaration matches ‘\u001b[01m\u001b[Kvoid Kangaroo::InitAllSearchKeys()\u001b[m\u001b[K’\n",
            "  955 | void \u001b[01;31m\u001b[KKangaroo\u001b[m\u001b[K::InitAllSearchKeys() {\n",
            "      |      \u001b[01;31m\u001b[K^~~~~~~~\u001b[m\u001b[K\n",
            "\u001b[01m\u001b[KKangaroo.cpp:955:6:\u001b[m\u001b[K \u001b[01;36m\u001b[Knote: \u001b[m\u001b[Kno functions named ‘\u001b[01m\u001b[Kvoid Kangaroo::InitAllSearchKeys()\u001b[m\u001b[K’\n",
            "In file included from \u001b[01m\u001b[KKangaroo.cpp:18\u001b[m\u001b[K:\n",
            "\u001b[01m\u001b[KKangaroo.h:128:7:\u001b[m\u001b[K \u001b[01;36m\u001b[Knote: \u001b[m\u001b[K‘\u001b[01m\u001b[Kclass Kangaroo\u001b[m\u001b[K’ defined here\n",
            "  128 | class \u001b[01;36m\u001b[KKangaroo\u001b[m\u001b[K {\n",
            "      |       \u001b[01;36m\u001b[K^~~~~~~~\u001b[m\u001b[K\n",
            "\u001b[01m\u001b[KKangaroo.cpp:\u001b[m\u001b[K In member function ‘\u001b[01m\u001b[Kvoid Kangaroo::Run(int, std::vector<int>, std::vector<int>)\u001b[m\u001b[K’:\n",
            "\u001b[01m\u001b[KKangaroo.cpp:1032:5:\u001b[m\u001b[K \u001b[01;31m\u001b[Kerror: \u001b[m\u001b[K‘\u001b[01m\u001b[KInitAllSearchKeys\u001b[m\u001b[K’ was not declared in this scope; did you mean ‘\u001b[01m\u001b[KInitSearchKey\u001b[m\u001b[K’?\n",
            " 1032 |     \u001b[01;31m\u001b[KInitAllSearchKeys\u001b[m\u001b[K();  // Initialize all keys at once\n",
            "      |     \u001b[01;31m\u001b[K^~~~~~~~~~~~~~~~~\u001b[m\u001b[K\n",
            "      |     \u001b[32m\u001b[KInitSearchKey\u001b[m\u001b[K\n",
            "\u001b[01m\u001b[KKangaroo.cpp:1066:37:\u001b[m\u001b[K \u001b[01;31m\u001b[Kerror: \u001b[m\u001b[K‘\u001b[01m\u001b[K_SolveKeysCPU\u001b[m\u001b[K’ was not declared in this scope; did you mean ‘\u001b[01m\u001b[K_SolveKeyCPU\u001b[m\u001b[K’?\n",
            " 1066 |         thHandles[j] = LaunchThread(\u001b[01;31m\u001b[K_SolveKeysCPU\u001b[m\u001b[K, params + j);  // Handles multiple keys\n",
            "      |                                     \u001b[01;31m\u001b[K^~~~~~~~~~~~~\u001b[m\u001b[K\n",
            "      |                                     \u001b[32m\u001b[K_SolveKeyCPU\u001b[m\u001b[K\n",
            "\u001b[01m\u001b[KKangaroo.cpp:1076:38:\u001b[m\u001b[K \u001b[01;31m\u001b[Kerror: \u001b[m\u001b[K‘\u001b[01m\u001b[K_SolveKeysGPU\u001b[m\u001b[K’ was not declared in this scope; did you mean ‘\u001b[01m\u001b[K_SolveKeyGPU\u001b[m\u001b[K’?\n",
            " 1076 |         thHandles[id] = LaunchThread(\u001b[01;31m\u001b[K_SolveKeysGPU\u001b[m\u001b[K, params + id);  // Handles multiple keys\n",
            "      |                                      \u001b[01;31m\u001b[K^~~~~~~~~~~~~\u001b[m\u001b[K\n",
            "      |                                      \u001b[32m\u001b[K_SolveKeyGPU\u001b[m\u001b[K\n",
            "make: *** [Makefile:80: obj/Kangaroo.o] Error 1\n"
          ]
        }
      ]
    },
    {
      "cell_type": "code",
      "source": [
        "!cd /content/drive/MyDrive/RETRIVER/RETRIVER && ./kangaroo -gpu -t 4 -o FOUNDKEY.txt -st 200000000000000000000000000000000 -en 3ffffffffffffffffffffffffffffffff -rb 130 -m 1 KEYS.txt"
      ],
      "metadata": {
        "colab": {
          "base_uri": "https://localhost:8080/"
        },
        "id": "aAOhSxYly7v0",
        "outputId": "07f6aea3-38ae-49b1-b9e7-6864e1d28802"
      },
      "execution_count": null,
      "outputs": [
        {
          "output_type": "stream",
          "name": "stdout",
          "text": [
            "Kangaroo v2.2 : Added Start End Stride Options\n",
            "Start:200000000000000000000000000000000\n",
            "Stop :3FFFFFFFFFFFFFFFFFFFFFFFFFFFFFFFF\n",
            "Keys :1\n",
            "Range width: 2^129\n",
            "Jump Avg distance: 2^64.01\n",
            "Number of kangaroos: 2^21.32\n",
            "Suggested DP: 40\n",
            "Expected operations: 2^65.60\n",
            "Expected RAM: 1958.4MB\n",
            "DP size: 40 [0xffffffffff000000]\n",
            "SolveKeyCPU Thread 0: 1024 kangaroos\n",
            "SolveKeyCPU Thread 1: 1024 kangaroos\n",
            "SolveKeyCPU Thread 2: 1024 kangaroos\n",
            "SolveKeyCPU Thread 3: 1024 kangaroos\n",
            "GPU: GPU #0 Tesla T4 (40x64 cores) Grid(80x128) (107.0 MB used)\n",
            "SolveKeyGPU Thread GPU#0: creating kangaroos...\n",
            "SolveKeyGPU Thread GPU#0: 2^21.32 kangaroos [95.8s]\n",
            "[104202.13 TK/s][GPU 100657.84 TK/s][Count 2^41.06][Dead 0][02:15:07 (Avg 5510.96y)][2.0/4.0MB]  "
          ]
        }
      ]
    }
  ],
  "metadata": {
    "colab": {
      "provenance": [],
      "gpuType": "T4"
    },
    "kernelspec": {
      "display_name": "Python 3",
      "name": "python3"
    },
    "accelerator": "GPU"
  },
  "nbformat": 4,
  "nbformat_minor": 0
}